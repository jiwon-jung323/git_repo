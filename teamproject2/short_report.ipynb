{
 "cells": [
  {
   "cell_type": "markdown",
   "id": "bdb9c33b",
   "metadata": {},
   "source": [
    "- 주제\n",
    "    - 공유 오피스 이벤트 이용자의 유료전환 가능성 예측 및 전략 제안"
   ]
  },
  {
   "cell_type": "markdown",
   "id": "40110797",
   "metadata": {},
   "source": [
    "- 사용 데이터"
   ]
  },
  {
   "cell_type": "markdown",
   "id": "39ce626b",
   "metadata": {},
   "source": [
    "| 테이블명          | 테이블 설명                 | 주요컬럼                                                      |\n",
    "|-------------------|-----------------------------|---------------------------------------------------------------|\n",
    "| `trial_register`  | 3일 체험 신청              | `유저id`, `3일체험신청일시`                                  |\n",
    "| `trial_visit_info`| 3일 체험 신청자 일자별 방문 기록 | `유저id`, `날짜`, `지점id`, `최초입실시각`, `최종퇴실시각`, `체류시간` |\n",
    "| `trial_access_log`| 3일 체험 신청자 출입 기록      | `유저id`, `지점id`, `timestamp`, `출입방향`                  |\n",
    "| `trial_payment`   | 3일 체험 신청자 결제 여부      | `유저id`, `결제여부`                                          |\n",
    "| `site_area`       | 지점별 면적                 | `지점id`, `지점 면적`                                        |"
   ]
  },
  {
   "cell_type": "markdown",
   "id": "c6d4b0ba",
   "metadata": {},
   "source": [
    "- 사용 툴\n",
    "    - python(pandas, numpy, matplotlib, sklearn)"
   ]
  },
  {
   "cell_type": "markdown",
   "id": "38abbcba",
   "metadata": {},
   "source": [
    "- 결과 \\\n",
    "✅ 중요도 ≥ 0.06인 피처 목록: \\\n",
    "['avg_duration', 'max_duration', 'session_std', 'avg_stay_time'] \n",
    "\n",
    "📊 정확도: 0.8771266540642723\n",
    "\n",
    "📄 분류 리포트: \\\n",
    "              precision    recall  f1-score   support \n",
    "\n",
    "           0       0.87      0.92      0.90       914 \n",
    "           1       0.89      0.81      0.85       673 \n",
    "\n",
    "    accuracy                           0.88      1587 \n",
    "   macro avg       0.88      0.87      0.87      1587 \\\n",
    "weighted avg       0.88      0.88      0.88      1587 "
   ]
  },
  {
   "cell_type": "markdown",
   "id": "2faf24ad",
   "metadata": {},
   "source": [
    "중요도가 0.06이상인 데이터와 전체로 돌린 예측 모델의 성능이 크게 차이가 나지않았다.\n",
    "전체를 돌린 모델보다 중요도 0.06이상인 데이터의 효율이 더 뛰어나 이를 최종 모델로 선정하였다."
   ]
  }
 ],
 "metadata": {
  "language_info": {
   "name": "python"
  }
 },
 "nbformat": 4,
 "nbformat_minor": 5
}
